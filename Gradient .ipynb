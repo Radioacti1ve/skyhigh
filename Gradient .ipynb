{
 "cells": [
  {
   "cell_type": "code",
   "execution_count": 35,
   "id": "092e698e",
   "metadata": {},
   "outputs": [],
   "source": [
    "import numpy as np\n",
    "import yaml\n",
    "from matplotlib import pyplot as plt"
   ]
  },
  {
   "cell_type": "code",
   "execution_count": 36,
   "id": "87577396",
   "metadata": {},
   "outputs": [
    {
     "name": "stdout",
     "output_type": "stream",
     "text": [
      "Prediction: [ 1.   2.   1.   0.  -0.5]\n",
      "Loss: 0.5\n"
     ]
    }
   ],
   "source": [
    "X = np.array([\n",
    "    [0, 1],\n",
    "    [1, 1],\n",
    "    [1, 0],\n",
    "    [-0.5, 0.5],\n",
    "    [0, -0.5]\n",
    "])\n",
    "\n",
    "y = np.array([1, 1, 1, -1, -1])\n",
    "\n",
    "theta0 = np.array([1.0, 1.0, 0.0])\n",
    "\n",
    "lr = 0.1\n",
    "\n",
    "def f(X, theta):\n",
    "    theta = np.asarray(theta)\n",
    "    return (X * theta[:2]).sum(axis=-1) + theta[2]\n",
    "\n",
    "def loss(X, y, theta):\n",
    "    theta = np.asarray(theta)\n",
    "    norm = (theta ** 2).sum()\n",
    "    deltas = y * f(X, theta)\n",
    "    return 0.1 * norm + np.mean(np.maximum(0, 1 - deltas))\n",
    "def d_loss(X, y, theta):\n",
    "    return np.array([\n",
    "        0.2*theta[0] + 0.2 * sum([max(0, -y[i] * X[i][0]) for i in range(5)]),\n",
    "        0.2*theta[1]  + 0.2 * sum([max(0, -y[i] * X[i][1]) for i in range(5)]),\n",
    "        0.2*theta[2] + 0.2 * sum([max(0, -y[i]) for i in range(5)])\n",
    "        ])\n"
   ]
  },
  {
   "cell_type": "code",
   "execution_count": 53,
   "id": "c37c5a29",
   "metadata": {},
   "outputs": [
    {
     "name": "stdout",
     "output_type": "stream",
     "text": [
      "Prediction: [ 0.9    1.85   0.9   -0.05  -0.525]\n",
      "Loss: 0.50575\n"
     ]
    }
   ],
   "source": [
    "theta = theta0\n",
    "for i in range(1000):\n",
    "    theta = theta - lr * d_loss(X, y, theta)\n",
    "    if loss(X, y, theta)<0.51:\n",
    "        break\n",
    "\n",
    "print(\"Prediction:\", f(X, theta))\n",
    "print(\"Loss:\", loss(X, y, theta))\n",
    "   "
   ]
  },
  {
   "cell_type": "code",
   "execution_count": null,
   "id": "82a231af",
   "metadata": {},
   "outputs": [],
   "source": []
  },
  {
   "cell_type": "code",
   "execution_count": 54,
   "id": "ef19dfe6",
   "metadata": {},
   "outputs": [],
   "source": [
    "with open(\"submission.yaml\", \"w\") as fp:\n",
    "    yaml.safe_dump({\"tasks\": [{\"task1\": {\"answer\": theta_n.tolist()}}]}, fp)"
   ]
  }
 ],
 "metadata": {
  "kernelspec": {
   "display_name": "Python 3 (ipykernel)",
   "language": "python",
   "name": "python3"
  },
  "language_info": {
   "codemirror_mode": {
    "name": "ipython",
    "version": 3
   },
   "file_extension": ".py",
   "mimetype": "text/x-python",
   "name": "python",
   "nbconvert_exporter": "python",
   "pygments_lexer": "ipython3",
   "version": "3.9.13"
  }
 },
 "nbformat": 4,
 "nbformat_minor": 5
}
